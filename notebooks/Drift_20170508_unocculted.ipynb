{
 "cells": [
  {
   "cell_type": "code",
   "execution_count": 1,
   "metadata": {
    "collapsed": false
   },
   "outputs": [],
   "source": [
    "from astropy.io.fits import getdata, getheader\n",
    "import astropy.units as u\n",
    "from nustar_lunar_pointing.tracking import get_epoch_tle\n",
    "from nustar_lunar_pointing.tracking import convert_nustar_time\n",
    "from nustar_lunar_pointing.tracking import get_moon_j2000\n",
    "\n",
    "import matplotlib.pyplot as plt\n",
    "%matplotlib notebook"
   ]
  },
  {
   "cell_type": "code",
   "execution_count": 2,
   "metadata": {
    "collapsed": false
   },
   "outputs": [
    {
     "name": "stdout",
     "output_type": "stream",
     "text": [
      "Days between TLE entry and when you want to observe:  15\n"
     ]
    }
   ],
   "source": [
    "from datetime import datetime\n",
    "\n",
    "checktime = datetime.strptime('2017-05-08', \"%Y-%m-%d\")\n",
    "tlefile = '../data/NuSTAR.tle'\n",
    "mindt, line1, line2 = get_epoch_tle(checktime, tlefile)\n",
    "print('Days between TLE entry and when you want to observe: ', mindt)"
   ]
  },
  {
   "cell_type": "code",
   "execution_count": 39,
   "metadata": {
    "collapsed": false
   },
   "outputs": [],
   "source": [
    "from astropy.coordinates import SkyCoord\n",
    "from datetime import timedelta\n",
    "ra = []\n",
    "dec =[]\n",
    "times= []\n",
    "base_ra = None\n",
    "base_dec = None\n",
    "\n",
    "step_size = timedelta(0, 10.) # 2 second steps for checking the Moon motion\n",
    "\n",
    "# Start and stop time for the unocculted period that we're looking at:\n",
    "checktime = datetime.strptime('2017-05-08T10:00:00', \"%Y-%m-%dT%H:%M:%S\")\n",
    "end_time = datetime.strptime('2017-05-08T13:00:00', \"%Y-%m-%dT%H:%M:%S\")\n",
    "\n",
    "last_pos = None\n",
    "dt = []\n",
    "dra = []\n",
    "ddec= []\n",
    "times = []\n",
    "\n",
    "# How large a motion of the moon you can have:\n",
    "limit = 2 #arcminutes\n",
    "\n",
    "set = 0\n",
    "ctr = 0\n",
    "last_time = None\n",
    "base_ra = None\n",
    "\n",
    "while ( (end_time - checktime).total_seconds() ) > 0:\n",
    "    checktime += step_size\n",
    "    \n",
    "    ra_moon, dec_moon = get_moon_j2000(checktime, line1, line2)\n",
    "    this_pos = SkyCoord(ra_moon, dec_moon)\n",
    "    \n",
    "    # Init values:\n",
    "    if base_ra is None:\n",
    "        base_ra = ra_moon\n",
    "        base_dec = dec_moon\n",
    "    else:\n",
    "        dra.extend([ra_moon - base_ra])\n",
    "        ddec.extend([dec_moon - base_dec])\n",
    "\n",
    "        \n",
    "    # Check to see if you're updating the interval or not:\n",
    "    if set == 0:\n",
    "        last_pos = this_pos\n",
    "        \n",
    "        if last_time is not None:\n",
    "            dt.extend([checktime - last_time])\n",
    "            times.extend([checktime])\n",
    "            ctr += 1\n",
    "\n",
    "        last_time = checktime\n",
    "        set = 1\n",
    "        \n",
    "    else:\n",
    "        \n",
    "        if( this_pos.separation(last_pos).arcmin > limit):\n",
    "            set = 0"
   ]
  },
  {
   "cell_type": "code",
   "execution_count": 43,
   "metadata": {
    "collapsed": false
   },
   "outputs": [
    {
     "ename": "IndexError",
     "evalue": "list index out of range",
     "output_type": "error",
     "traceback": [
      "\u001b[0;31m---------------------------------------------------------------------------\u001b[0m",
      "\u001b[0;31mIndexError\u001b[0m                                Traceback (most recent call last)",
      "\u001b[0;32m<ipython-input-43-9877f6837cb5>\u001b[0m in \u001b[0;36m<module>\u001b[0;34m()\u001b[0m\n\u001b[1;32m     10\u001b[0m         \u001b[0mctr\u001b[0m \u001b[0;34m+=\u001b[0m \u001b[0;36m1\u001b[0m\u001b[0;34m\u001b[0m\u001b[0m\n\u001b[1;32m     11\u001b[0m         \u001b[0mexp\u001b[0m \u001b[0;34m+=\u001b[0m \u001b[0mt\u001b[0m\u001b[0;34m.\u001b[0m\u001b[0mtotal_seconds\u001b[0m\u001b[0;34m(\u001b[0m\u001b[0;34m)\u001b[0m \u001b[0;34m-\u001b[0m \u001b[0mslew_time\u001b[0m\u001b[0;34m\u001b[0m\u001b[0m\n\u001b[0;32m---> 12\u001b[0;31m         \u001b[0mprint\u001b[0m\u001b[0;34m(\u001b[0m\u001b[0mtimes\u001b[0m\u001b[0;34m[\u001b[0m\u001b[0mind\u001b[0m\u001b[0;34m]\u001b[0m\u001b[0;34m,\u001b[0m \u001b[0;34m'Dwell time: '\u001b[0m\u001b[0;34m,\u001b[0m \u001b[0mt\u001b[0m\u001b[0;34m.\u001b[0m\u001b[0mtotal_seconds\u001b[0m\u001b[0;34m(\u001b[0m\u001b[0;34m)\u001b[0m \u001b[0;34m-\u001b[0m \u001b[0mslew_time\u001b[0m\u001b[0;34m)\u001b[0m\u001b[0;34m\u001b[0m\u001b[0m\n\u001b[0m\u001b[1;32m     13\u001b[0m \u001b[0;31m#        print(t.tal_seconds())\u001b[0m\u001b[0;34m\u001b[0m\u001b[0;34m\u001b[0m\u001b[0m\n\u001b[1;32m     14\u001b[0m     \u001b[0mall_exp\u001b[0m \u001b[0;34m+=\u001b[0m \u001b[0mt\u001b[0m\u001b[0;34m.\u001b[0m\u001b[0mtotal_seconds\u001b[0m\u001b[0;34m(\u001b[0m\u001b[0;34m)\u001b[0m\u001b[0;34m\u001b[0m\u001b[0m\n",
      "\u001b[0;31mIndexError\u001b[0m: list index out of range"
     ]
    }
   ],
   "source": [
    "ctr = 0\n",
    "exp = 0.\n",
    "all_exp = 0.\n",
    "slew_rate = 0.17 # arcmin / sec\n",
    "slew_time = limit / slew_rate\n",
    "slew_time = 0. #seconds for a 2 arcminute slew\n",
    "\n",
    "for ind, t in enumerate(dt):\n",
    "    if (t.total_seconds() - slew_time > 0):\n",
    "        ctr += 1\n",
    "        exp += t.total_seconds() - slew_time\n",
    "        print(times[ind], 'Dwell time: ', t.total_seconds() - slew_time)\n",
    "#        print(t.tal_seconds())\n",
    "    all_exp += t.total_seconds()\n",
    "print()\n",
    "print('Stationary exposure: ', exp)\n",
    "print('Total Exposure: ', all_exp)\n",
    "print('Efficiency: ', exp / all_exp)\n",
    "print('Number of dwells: ', ctr, '(Used)', len(dt), '(Total)')"
   ]
  },
  {
   "cell_type": "code",
   "execution_count": 23,
   "metadata": {
    "collapsed": false
   },
   "outputs": [],
   "source": [
    "import astropy.units as u\n",
    "import numpy as np"
   ]
  },
  {
   "cell_type": "code",
   "execution_count": 31,
   "metadata": {
    "collapsed": false
   },
   "outputs": [
    {
     "name": "stdout",
     "output_type": "stream",
     "text": [
      "132.300626771158 arcmin 118.33594332459083 arcmin\n"
     ]
    }
   ],
   "source": [
    "alt = 600 * u.km\n",
    "x = u.R_earth.to(u.km)*u.km + alt\n",
    "moon_peri = 362.6e3 * u.km\n",
    "moon_apo = 405.4e3 * u.km\n",
    "\n",
    "par_peri = np.arctan(x / moon_peri)\n",
    "par_apo = np.arctan(x / moon_apo)\n",
    "\n",
    "print(2*par_peri.to(u.arcmin), 2*par_apo.to(u.arcmin))"
   ]
  },
  {
   "cell_type": "code",
   "execution_count": 20,
   "metadata": {
    "collapsed": false
   },
   "outputs": [
    {
     "data": {
      "text/latex": [
       "$6378.136 \\; \\mathrm{km}$"
      ],
      "text/plain": [
       "<Quantity 6378.136 km>"
      ]
     },
     "execution_count": 20,
     "metadata": {},
     "output_type": "execute_result"
    }
   ],
   "source": [
    "u.R_earth.to(u.km) * u.km"
   ]
  },
  {
   "cell_type": "code",
   "execution_count": 44,
   "metadata": {
    "collapsed": false
   },
   "outputs": [
    {
     "data": {
      "text/plain": [
       "[]"
      ]
     },
     "execution_count": 44,
     "metadata": {},
     "output_type": "execute_result"
    }
   ],
   "source": [
    "times"
   ]
  },
  {
   "cell_type": "code",
   "execution_count": null,
   "metadata": {
    "collapsed": true
   },
   "outputs": [],
   "source": []
  }
 ],
 "metadata": {
  "anaconda-cloud": {},
  "kernelspec": {
   "display_name": "Python [default]",
   "language": "python",
   "name": "python3"
  },
  "language_info": {
   "codemirror_mode": {
    "name": "ipython",
    "version": 3
   },
   "file_extension": ".py",
   "mimetype": "text/x-python",
   "name": "python",
   "nbconvert_exporter": "python",
   "pygments_lexer": "ipython3",
   "version": "3.5.2"
  }
 },
 "nbformat": 4,
 "nbformat_minor": 2
}
