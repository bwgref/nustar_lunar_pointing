{
 "cells": [
  {
   "cell_type": "code",
   "execution_count": 1,
   "metadata": {
    "collapsed": false
   },
   "outputs": [],
   "source": [
    "from astropy.io.fits import getdata, getheader\n",
    "from nustar_lunar_pointing.tracking import get_epoch_tle, convert_nustar_time, get_moon_j2000"
   ]
  },
  {
   "cell_type": "markdown",
   "metadata": {},
   "source": [
    "### Load in the attorb data and figure out which TLE row you're going to use."
   ]
  },
  {
   "cell_type": "code",
   "execution_count": 2,
   "metadata": {
    "collapsed": false
   },
   "outputs": [
    {
     "name": "stdout",
     "output_type": "stream",
     "text": [
      "Time between TLE and time you want to check: 0\n"
     ]
    }
   ],
   "source": [
    "tlefile = '../data/NusTAR.tle'\n",
    "att = getdata('../data/nu60160109002A.attorb')\n",
    "hdr = getheader('../data/nu60160109002A.attorb', 1)\n",
    "mjdref = hdr['MJDREFI']\n",
    "\n",
    "checktime = convert_nustar_time(att[0]['TIME'])\n",
    "mindt, line1, line2 = get_epoch_tle(checktime, tlefile)\n",
    "print(\"Time between TLE and time you want to check:\", mindt)"
   ]
  },
  {
   "cell_type": "markdown",
   "metadata": {},
   "source": [
    "### Loop over the entries in the attorb file and see if the Moon moves.\n",
    "\n",
    "Good news, there's less than 3\" shift now between using the positions in the attorb file and when you use the TLE to determine the position."
   ]
  },
  {
   "cell_type": "code",
   "execution_count": 3,
   "metadata": {
    "collapsed": false
   },
   "outputs": [
    {
     "name": "stdout",
     "output_type": "stream",
     "text": [
      "317.22829907610003 deg -13.462168800770106 deg\n"
     ]
    },
    {
     "ename": "NameError",
     "evalue": "name 'position' is not defined",
     "output_type": "error",
     "traceback": [
      "\u001b[0;31m---------------------------------------------------------------------------\u001b[0m",
      "\u001b[0;31mNameError\u001b[0m                                 Traceback (most recent call last)",
      "\u001b[0;32m<ipython-input-3-ce8fdfd6a1fa>\u001b[0m in \u001b[0;36m<module>\u001b[0;34m()\u001b[0m\n\u001b[1;32m     19\u001b[0m \u001b[0mprint\u001b[0m\u001b[0;34m(\u001b[0m\u001b[0mra_moon1\u001b[0m\u001b[0;34m,\u001b[0m \u001b[0mdec_moon1\u001b[0m\u001b[0;34m)\u001b[0m\u001b[0;34m\u001b[0m\u001b[0m\n\u001b[1;32m     20\u001b[0m \u001b[0;31m#print(ra_moon2, dec_moon2)\u001b[0m\u001b[0;34m\u001b[0m\u001b[0;34m\u001b[0m\u001b[0m\n\u001b[0;32m---> 21\u001b[0;31m \u001b[0mprint\u001b[0m\u001b[0;34m(\u001b[0m\u001b[0mposition\u001b[0m\u001b[0;34m)\u001b[0m\u001b[0;34m\u001b[0m\u001b[0m\n\u001b[0m",
      "\u001b[0;31mNameError\u001b[0m: name 'position' is not defined"
     ]
    }
   ],
   "source": [
    "from astropy.coordinates import SkyCoord\n",
    "doff = []\n",
    "for ind, t0 in enumerate(att['Time']):\n",
    "    t1 = convert_nustar_time(t0)\n",
    "\n",
    "    \n",
    "    ra_moon1, dec_moon1 = get_moon_j2000(t1, line1, line2)\n",
    "    moon_sky1 = SkyCoord(ra_moon1, dec_moon1)\n",
    "\n",
    "#    position = att[ind]['Position']\n",
    "#    ra_moon2, dec_moon2 = get_moon_j2000(t1, line1, line2, position=position)\n",
    "#    moon_sky2 = SkyCoord(ra_moon2, dec_moon2)\n",
    "    \n",
    "#    doff.extend([moon_sky1.separation(moon_sky2).arcsec])\n",
    "    \n",
    "    if ind > 100:\n",
    "        break\n",
    "    break\n",
    "print(ra_moon1, dec_moon1)\n",
    "#print(ra_moon2, dec_moon2)\n",
    "print(position)"
   ]
  },
  {
   "cell_type": "markdown",
   "metadata": {},
   "source": [
    "### Below was just to figure out that there's a 5 second difference between time timestamps in the attorb file and the times that are actually used to report the satellite position."
   ]
  },
  {
   "cell_type": "code",
   "execution_count": 4,
   "metadata": {
    "collapsed": false
   },
   "outputs": [],
   "source": [
    "from nustar_lunar_pointing.tracking import get_nustar_location\n",
    "from numpy import sqrt\n",
    "\n",
    "roff = []\n",
    "for ind, t0 in enumerate(att['Time']):\n",
    "    t1 = convert_nustar_time(t0)\n",
    "\n",
    "    tle_position = get_nustar_location(t1, line1, line2)\n",
    "    position = att[ind]['Position']\n",
    "        \n",
    "    dx = tle_position - position\n",
    "    dr = 0.\n",
    "\n",
    "    for val in dx:\n",
    "        dr += val**2.\n",
    "        \n",
    "    roff.extend([sqrt(dr)])\n",
    "    \n",
    "    \n",
    "    if ind > 10:\n",
    "        break\n",
    "    break"
   ]
  },
  {
   "cell_type": "code",
   "execution_count": 28,
   "metadata": {
    "collapsed": false,
    "scrolled": true
   },
   "outputs": [
    {
     "name": "stdout",
     "output_type": "stream",
     "text": [
      "(<Longitude 9.827989539088687 deg>, <Latitude -3.869880117760175 deg>, <Quantity 598.5603128499339 km>)\n",
      "9.82788 -3.80595 598.4435898437496 km\n"
     ]
    }
   ],
   "source": [
    "from nustar_lunar_pointing.tracking import eci2el\n",
    "from datetime import timedelta\n",
    "from astropy.time import Time\n",
    "import astropy.units as u\n",
    "\n",
    "\n",
    "position = att['Position'][0]\n",
    "#print(position)\n",
    "t = Time(t1+timedelta(0, 60))\n",
    "loc = eci2el(*tle_position*u.km,t)\n",
    "\n",
    "print(loc.to_geodetic())\n",
    "print(att['SAT_LON'][0], att['SAT_LAT'][0], att['SAT_ALT'][0]*u.km - (1*u.R_earth).to(u.km))\n",
    "\n"
   ]
  },
  {
   "cell_type": "code",
   "execution_count": 7,
   "metadata": {
    "collapsed": false
   },
   "outputs": [
    {
     "data": {
      "text/plain": [
       "datetime.datetime(2016, 2, 8, 7, 29, 57)"
      ]
     },
     "execution_count": 7,
     "metadata": {},
     "output_type": "execute_result"
    }
   ],
   "source": [
    "t1"
   ]
  },
  {
   "cell_type": "code",
   "execution_count": null,
   "metadata": {
    "collapsed": true
   },
   "outputs": [],
   "source": []
  }
 ],
 "metadata": {
  "anaconda-cloud": {},
  "kernelspec": {
   "display_name": "Python [default]",
   "language": "python",
   "name": "python3"
  },
  "language_info": {
   "codemirror_mode": {
    "name": "ipython",
    "version": 3
   },
   "file_extension": ".py",
   "mimetype": "text/x-python",
   "name": "python",
   "nbconvert_exporter": "python",
   "pygments_lexer": "ipython3",
   "version": "3.5.2"
  }
 },
 "nbformat": 4,
 "nbformat_minor": 2
}
