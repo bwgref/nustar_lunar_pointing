{
 "cells": [
  {
   "cell_type": "code",
   "execution_count": 13,
   "metadata": {
    "collapsed": false,
    "scrolled": true
   },
   "outputs": [],
   "source": [
    "from astropy.io.fits import getdata\n",
    "from astropy.time import Time\n",
    "from nustar_lunar_pointing.tracking import get_epoch_tle, get_moon_j2000\n",
    "from astropy.coordinates import SkyCoord\n",
    "import astropy.units as u\n"
   ]
  },
  {
   "cell_type": "code",
   "execution_count": 3,
   "metadata": {
    "collapsed": true,
    "scrolled": true
   },
   "outputs": [],
   "source": [
    "infile ='../data/numaster.fits'\n",
    "tlefile = '../data/NusTAR.tle'\n",
    "\n",
    "numaster = getdata(infile)\n",
    "\n",
    "\n"
   ]
  },
  {
   "cell_type": "code",
   "execution_count": 30,
   "metadata": {
    "collapsed": false,
    "scrolled": false
   },
   "outputs": [
    {
     "name": "stdout",
     "output_type": "stream",
     "text": [
      "10 1E1740d7m2942 17.486514286115753\n",
      "62 G21d5m0d9 28.266906976014354\n",
      "63 G21d5m0d9 15.675594109083082\n",
      "64 G21d5m0d9 15.127668288270966\n",
      "238 Crab_cal12 19.984006178866675\n",
      "319 COSMOS_MOS007 29.043495988766757\n",
      "320 COSMOS_MOS008 22.71217503930299\n",
      "322 B2_1023p25 22.611100057931587\n",
      "328 COSMOS_MOS009 14.911181792336775\n",
      "329 COSMOS_MOS010 22.619724166841834\n",
      "392 MCGm6m30m15 21.580873093277535\n",
      "393 MCGm6m30m15 21.49685300309463\n",
      "431 3C105 26.85700265312411\n",
      "433 NGC0513 24.00647386619671\n",
      "441 Ark120 24.152417460753355\n",
      "583 Crab_cal18 24.489628462694554\n",
      "593 MCG_01_24_012 29.25485627113909\n",
      "615 gcmagnetar 29.90101008773521\n",
      "670 COSMOS_MOS061 16.722398907424804\n",
      "671 COSMOS_MOS062 23.90525730246475\n",
      "690 gcmagnetar 15.086872263158325\n",
      "728 Norma_MOS014 27.751291529035118\n",
      "729 Norma_MOS015 26.761766029108017\n",
      "730 Norma_MOS016 28.48654543864051\n",
      "837 GX339_4 29.78788325096706\n",
      "841 GalSurvey_B_MOS001 23.93618339336372\n",
      "893 1E1841m045 13.838149749790201\n",
      "935 GalSurvey_B_MOS013 26.939467041899857\n",
      "942 GalSurvey_B_MOS014 17.86200133584996\n",
      "972 XTEJ1908p094 27.114607450923646\n",
      "1054 NGC4388 29.188368899429847\n",
      "1094 COSMOS_MOS111 26.11296838388768\n",
      "1104 COSMOS_MOS112 29.555674064747805\n",
      "1132 Mrk728 19.148666384648962\n",
      "1134 PG_1211p143 18.516879927235117\n",
      "1358 HE1136m2304 29.580367783222957\n",
      "1405 SDSSJ1243m0232 29.068762104109112\n",
      "1440 NGC1068 29.740873949178262\n",
      "1531 F2M0830p3759 29.986409545093256\n",
      "1553 GalSurvey_B_MOS019 22.90997406115764\n",
      "1612 SS433 23.04580932272511\n",
      "1641 2MASXJ04532576p0403416 19.87462841486597\n",
      "1642 2MASXJ04532576p0403416 21.39566520279529\n",
      "1663 SS433 23.439005079943886\n",
      "1784 NGC5135 22.020957517460154\n",
      "1785 NGC5135 23.01296792364984\n",
      "1886 HESSJ1640m465 29.864304537798564\n",
      "1940 IGR_J17511m3057 22.99167635605468\n",
      "1946 HESSJ1834m087_TeV 14.757737845201088\n",
      "2032 CXOUJ171405d7m381031 25.79074325852613\n",
      "2119 SGR_1806m20 29.217787383274693\n",
      "2121 HESSJ1640m465 29.283247895890252\n",
      "2125 4U_1909p07 28.96966804877288\n",
      "2177 H1743m322 22.923980543195082\n",
      "2246 IGR_J18027m2016 24.210784382731912\n",
      "2248 PG2112p059 21.12092025469217\n",
      "2394 Arches_cluster 14.366616287255273\n",
      "2455 2MASXJ18305065p0928414 27.624207536576073\n",
      "2473 2MASXJ01392400p2924067 28.81950811843348\n",
      "2475 1ES_0414p009 15.286413828421383\n",
      "2493 NGC2992 24.130415656597986\n",
      "2543 1RXSJ073308d7p455511 28.74898640802971\n",
      "2561 J133331d15m012653d3 27.356523595688998\n",
      "2641 UDS_MOS011 26.849432274428853\n",
      "2642 UDS_MOS012 16.300914251274577\n",
      "2682 4U_1700m37 24.590318987765322\n",
      "2719 IGRJ17091m3624 20.855744569643647\n",
      "2721 RXJ1713d7m3946_NW_P2 22.678403442183505\n",
      "2783 IGRJ17402m3656 19.758364681482217\n",
      "2906 G11d2m0d3 28.447978507121732\n",
      "2918 2MASXJ01485967p2145343 14.448246133276347\n",
      "2920 J0113p0106 25.95859934780647\n",
      "2956 GRS_1915p105 28.894174237426697\n",
      "3060 1RXSJ010713d0m113554 26.563897537030208\n",
      "3142 TCP_J18102829m2729590 17.837761355714335\n",
      "3160 UDS_MOS042 25.19589369792038\n",
      "3305 TON_396 15.006708399952515\n",
      "3313 M87 20.36258715389459\n",
      "3317 NGC4939 24.599524217250845\n",
      "3331 SwiftJ1753d5m0127 16.96682961368693\n",
      "3337 Swift_J1816d7m1613 20.501491681338734\n",
      "3525 M87 26.632391684963245\n",
      "3541 PSR_B1821m24 14.580686622421064\n"
     ]
    },
    {
     "name": "stderr",
     "output_type": "stream",
     "text": [
      "WARNING: ErfaWarning: ERFA function \"d2dtf\" yielded 1 of \"dubious year (Note 5)\" [astropy._erfa.core]\n",
      "WARNING: ErfaWarning: ERFA function \"dtf2d\" yielded 1 of \"dubious year (Note 6)\" [astropy._erfa.core]\n",
      "WARNING: ErfaWarning: ERFA function \"utctai\" yielded 1 of \"dubious year (Note 3)\" [astropy._erfa.core]\n",
      "WARNING: ErfaWarning: ERFA function \"taiutc\" yielded 1 of \"dubious year (Note 4)\" [astropy._erfa.core]\n",
      "WARNING: ErfaWarning: ERFA function \"epv00\" yielded 1 of \"warning: date outsidethe range 1900-2100 AD\" [astropy._erfa.core]\n",
      "WARNING: Tried to get polar motions for times before IERS data is valid. Defaulting to polar motion from the 50-yr mean for those. This may affect precision at the 10s of arcsec level [astropy.coordinates.builtin_frames.utils]\n",
      "WARNING: ErfaWarning: ERFA function \"utcut1\" yielded 1 of \"dubious year (Note 3)\" [astropy._erfa.core]\n"
     ]
    },
    {
     "name": "stdout",
     "output_type": "stream",
     "text": [
      "3581 2MASXJ08555426p0051110 22.351948374201736\n",
      "3583 IC2515 25.293372384777392\n",
      "3588 SDSSJ104208d36p004206d1 13.792001911132301\n",
      "3593 2MASXJ11324928p1017473 19.677711192466123\n",
      "3595 CGCG041_020 27.185436982941507\n",
      "3597 NGC4074 27.82939783779156\n",
      "3787 2MASXJ08420557p0759253 22.79506654244454\n",
      "3788 2MASXJ08451850p1420345 21.40117987186948\n",
      "3792 1RXSJ090915d6p035453 17.919115694823958\n",
      "3798 Mrk705 11.455815171342158\n",
      "3799 NGC2885 15.152773193356612\n",
      "3801 2MASXJ09352707p2617093 16.410383144372688\n",
      "3803 CGCG122m055 13.415899332281828\n",
      "3804 NGC3035 19.972211177551003\n",
      "3806 NGC3080 3.2408294904606714\n",
      "3808 3C234d0 16.541450967878653\n",
      "3811 2MASXJ10084862m0954510 22.38843388784685\n",
      "3812 ARK241 16.04927083858927\n",
      "3813 NGC3227 7.832126008064174\n",
      "3816 2MASSiJ1031543m141651 27.13811605592872\n",
      "3819 FBQSJ110340d2p372925 27.482915242587914\n",
      "3826 Mrk423 28.253963033735406\n",
      "3827 2MASXJ11271632p1909198 19.066226692450336\n",
      "3831 HB89_1130p106 19.704869691843008\n",
      "3833 2MASXJ11383367p2523532 23.963112589283153\n",
      "3834 SDSSJ113915d13p253557d9 24.196614777621157\n",
      "3836 PG1138p222 23.07997319943807\n",
      "3840 2MASXJ11475508p0902284 23.55241350736741\n",
      "3841 MCGp05m28m032 28.0791585393877\n",
      "4057 ABELL754 27.235306941927647\n",
      "4059 2MASXJ10171680m0404558 16.566493132276822\n",
      "4138 Mrk1239 14.969794277153493\n",
      "4151 CGCG_004m040 29.770416473092155\n"
     ]
    }
   ],
   "source": [
    "ctr = 0\n",
    "for ind, t in enumerate(numaster['Time']):\n",
    "    obs_time = Time(t, format='mjd')\n",
    "    obs_ra = numaster[ind]['RA']\n",
    "    obs_dec = numaster[ind]['DEC']\n",
    "    if (obs_dec == -99):\n",
    "        continue\n",
    "\n",
    "    mindt, line1, line2 = get_epoch_tle(obs_time, tlefile)\n",
    "    ra_moon, dec_moon = get_moon_j2000(obs_time, line1, line2)\n",
    "    moon = SkyCoord(ra_moon, dec_moon)\n",
    "        \n",
    "    obs = SkyCoord(obs_ra*u.deg, obs_dec*u.deg)\n",
    "    doff = obs.separation(moon).deg\n",
    "    if (doff < 30):\n",
    "        print(ind, numaster[ind]['NAME'], doff)\n",
    "        ctr += 1\n"
   ]
  },
  {
   "cell_type": "code",
   "execution_count": 32,
   "metadata": {
    "collapsed": false,
    "scrolled": true
   },
   "outputs": [
    {
     "name": "stdout",
     "output_type": "stream",
     "text": [
      "116 0.027586206896551724\n"
     ]
    }
   ],
   "source": [
    "print(ctr, ctr / ind)"
   ]
  },
  {
   "cell_type": "code",
   "execution_count": null,
   "metadata": {
    "collapsed": true,
    "scrolled": true
   },
   "outputs": [],
   "source": []
  }
 ],
 "metadata": {
  "kernelspec": {
   "display_name": "Python [default]",
   "language": "python",
   "name": "python3"
  },
  "language_info": {
   "codemirror_mode": {
    "name": "ipython",
    "version": 3
   },
   "file_extension": ".py",
   "mimetype": "text/x-python",
   "name": "python",
   "nbconvert_exporter": "python",
   "pygments_lexer": "ipython3",
   "version": "3.5.2"
  }
 },
 "nbformat": 4,
 "nbformat_minor": 2
}
