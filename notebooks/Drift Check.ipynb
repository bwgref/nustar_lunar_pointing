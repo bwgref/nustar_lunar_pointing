{
 "cells": [
  {
   "cell_type": "code",
   "execution_count": null,
   "metadata": {
    "collapsed": false
   },
   "outputs": [],
   "source": [
    "from astropy.io.fits import getdata, getheader\n",
    "import astropy.units as u\n",
    "from nustar_lunar_pointing.tracking import get_epoch_tle\n",
    "from nustar_lunar_pointing.tracking import convert_nustar_time\n",
    "from nustar_lunar_pointing.tracking import get_moon_j2000\n",
    "\n",
    "import matplotlib.pyplot as plt\n",
    "%matplotlib inline"
   ]
  },
  {
   "cell_type": "code",
   "execution_count": null,
   "metadata": {
    "collapsed": true
   },
   "outputs": [],
   "source": [
    "tlefile = '../data/NUSTAR_TLE_ARCHIVE.txt.2016122'\n",
    "att = getdata('../data/nu30102028006A.attorb')\n",
    "hdr = getheader('../data/nu30102028006A.attorb', 1)\n",
    "mjdref = hdr['MJDREFI']\n",
    "\n",
    "checktime = convert_nustar_time(att[0]['TIME'])\n",
    "mindt, line1, line2 = get_epoch_tle(checktime, tlefile)"
   ]
  },
  {
   "cell_type": "code",
   "execution_count": null,
   "metadata": {
    "collapsed": false
   },
   "outputs": [],
   "source": [
    "from astropy.coordinates import SkyCoord\n",
    "doff = []\n",
    "dra = []\n",
    "ddec =[]\n",
    "dt = []\n",
    "\n",
    "base_ra = None\n",
    "base_dec = None\n",
    "\n",
    "tcheck = min(att['Time'])\n",
    "step_size = 20. \n",
    "for ind, t0 in enumerate(att['Time']):\n",
    "    if (t0 - tcheck) < step_size:\n",
    "        continue\n",
    "    else:\n",
    "        tcheck = t0\n",
    "\n",
    "    if (t0 - min(att['Time'])) > 3000:\n",
    "        break\n",
    "\n",
    "        \n",
    "    t1 = convert_nustar_time(t0)\n",
    "    \n",
    "    ra_moon, dec_moon = get_moon_j2000(t1, line1, line2)\n",
    "    moon_skycoord = SkyCoord(ra_moon, dec_moon)\n",
    "\n",
    "    if base_ra is None:\n",
    "        base_ra = ra_moon\n",
    "        base_dec = dec_moon\n",
    "        base_skycoord = moon_skycoord\n",
    "        base_time = min(att['Time'])\n",
    "    else:\n",
    "        this_skycoord = SkyCoord(ra_moon, dec_moon)\n",
    "        doff.extend([this_skycoord.separation(base_skycoord).arcsec])\n",
    "        dra.extend([\n",
    "            (ra_moon - base_ra).to(u.arcsec).value\n",
    "        ])\n",
    "        ddec.extend([\n",
    "            (dec_moon - base_dec).to(u.arcsec).value\n",
    "        ])\n",
    "        dt.extend([t0 - base_time])\n",
    "        \n"
   ]
  },
  {
   "cell_type": "code",
   "execution_count": null,
   "metadata": {
    "collapsed": false,
    "scrolled": true
   },
   "outputs": [],
   "source": [
    "plt.plot(dt, dra, 'g.')\n",
    "plt.xlabel('Time (sec)')\n",
    "plt.ylabel('Offset (arcsec)')"
   ]
  },
  {
   "cell_type": "code",
   "execution_count": null,
   "metadata": {
    "collapsed": false
   },
   "outputs": [],
   "source": [
    "from astropy.coordinates import SkyCoord\n",
    "doff = []\n",
    "dra = []\n",
    "ddec =[]\n",
    "dt = []\n",
    "\n",
    "base_ra = None\n",
    "base_dec = None\n",
    "\n",
    "tcheck = min(att['Time'])\n",
    "step_size = 1. # arcminute\n",
    "last_skycoord = None\n",
    "last_time = None\n",
    "\n",
    "set = 0\n",
    "for ind, t0 in enumerate(att['Time']):\n",
    "\n",
    "    if (t0 - min(att['Time'])) < 1500:\n",
    "        continue\n",
    "\n",
    "\n",
    "    if (t0 - min(att['Time'])) > 1800:\n",
    "        break\n",
    "\n",
    "        \n",
    "    t1 = convert_nustar_time(t0)\n",
    "    \n",
    "    ra_moon, dec_moon = get_moon_j2000(t1, line1, line2)\n",
    "    moon_skycoord = SkyCoord(ra_moon, dec_moon)\n",
    "\n",
    "    if set == 0:\n",
    "        print(t1)\n",
    "        \n",
    "        if last_time is not None:\n",
    "            print(t0 - last_time)\n",
    "        \n",
    "        last_time = t0\n",
    "        last_skycoord = moon_skycoord\n",
    "\n",
    "\n",
    "        set = 1\n",
    "    else:\n",
    "        if moon_skycoord.separation(last_skycoord).arcmin > step_size:\n",
    "            set=0\n",
    "               \n",
    "    \n",
    "    "
   ]
  },
  {
   "cell_type": "code",
   "execution_count": null,
   "metadata": {
    "collapsed": false
   },
   "outputs": [],
   "source": [
    "dra"
   ]
  },
  {
   "cell_type": "code",
   "execution_count": null,
   "metadata": {
    "collapsed": true
   },
   "outputs": [],
   "source": []
  }
 ],
 "metadata": {
  "anaconda-cloud": {},
  "kernelspec": {
   "display_name": "Python [default]",
   "language": "python",
   "name": "python3"
  },
  "language_info": {
   "codemirror_mode": {
    "name": "ipython",
    "version": 3
   },
   "file_extension": ".py",
   "mimetype": "text/x-python",
   "name": "python",
   "nbconvert_exporter": "python",
   "pygments_lexer": "ipython3",
   "version": "3.5.1"
  }
 },
 "nbformat": 4,
 "nbformat_minor": 2
}
