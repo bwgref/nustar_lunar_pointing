{
 "cells": [
  {
   "cell_type": "code",
<<<<<<< HEAD
   "execution_count": null,
=======
   "execution_count": 1,
>>>>>>> master
   "metadata": {
    "collapsed": false
   },
   "outputs": [],
   "source": [
    "from astropy.io.fits import getdata, getheader\n",
    "import astropy.units as u\n",
    "from nustar_lunar_pointing.tracking import get_epoch_tle\n",
    "from nustar_lunar_pointing.tracking import convert_nustar_time\n",
    "from nustar_lunar_pointing.tracking import get_moon_j2000\n",
    "\n",
    "import matplotlib.pyplot as plt\n",
    "%matplotlib inline"
   ]
  },
  {
   "cell_type": "code",
<<<<<<< HEAD
   "execution_count": null,
   "metadata": {
    "collapsed": true
   },
   "outputs": [],
   "source": [
    "tlefile = '../data/NUSTAR_TLE_ARCHIVE.txt.2016122'\n",
    "att = getdata('../data/nu30102028006A.attorb')\n",
    "hdr = getheader('../data/nu30102028006A.attorb', 1)\n",
=======
   "execution_count": 4,
   "metadata": {
    "collapsed": false
   },
   "outputs": [],
   "source": [
    "tlefile = '../data/NUSTAR.tle'\n",
    "att = getdata('../data/nu60160109002A.attorb')\n",
    "hdr = getheader('../data/nu60160109002A.attorb', 1)\n",
>>>>>>> master
    "mjdref = hdr['MJDREFI']\n",
    "\n",
    "checktime = convert_nustar_time(att[0]['TIME'])\n",
    "mindt, line1, line2 = get_epoch_tle(checktime, tlefile)"
   ]
  },
  {
   "cell_type": "code",
<<<<<<< HEAD
   "execution_count": null,
=======
   "execution_count": 5,
>>>>>>> master
   "metadata": {
    "collapsed": false
   },
   "outputs": [],
   "source": [
    "from astropy.coordinates import SkyCoord\n",
    "doff = []\n",
    "dra = []\n",
    "ddec =[]\n",
    "dt = []\n",
    "\n",
    "base_ra = None\n",
    "base_dec = None\n",
    "\n",
    "tcheck = min(att['Time'])\n",
    "step_size = 20. \n",
    "for ind, t0 in enumerate(att['Time']):\n",
    "    if (t0 - tcheck) < step_size:\n",
    "        continue\n",
    "    else:\n",
    "        tcheck = t0\n",
    "\n",
    "    if (t0 - min(att['Time'])) > 3000:\n",
    "        break\n",
    "\n",
    "        \n",
    "    t1 = convert_nustar_time(t0)\n",
    "    \n",
    "    ra_moon, dec_moon = get_moon_j2000(t1, line1, line2)\n",
    "    moon_skycoord = SkyCoord(ra_moon, dec_moon)\n",
    "\n",
    "    if base_ra is None:\n",
    "        base_ra = ra_moon\n",
    "        base_dec = dec_moon\n",
    "        base_skycoord = moon_skycoord\n",
    "        base_time = min(att['Time'])\n",
    "    else:\n",
    "        this_skycoord = SkyCoord(ra_moon, dec_moon)\n",
    "        doff.extend([this_skycoord.separation(base_skycoord).arcsec])\n",
    "        dra.extend([\n",
    "            (ra_moon - base_ra).to(u.arcsec).value\n",
    "        ])\n",
    "        ddec.extend([\n",
    "            (dec_moon - base_dec).to(u.arcsec).value\n",
    "        ])\n",
    "        dt.extend([t0 - base_time])\n",
    "        \n"
   ]
  },
  {
   "cell_type": "code",
<<<<<<< HEAD
   "execution_count": null,
=======
   "execution_count": 18,
>>>>>>> master
   "metadata": {
    "collapsed": false,
    "scrolled": true
   },
<<<<<<< HEAD
   "outputs": [],
   "source": [
    "plt.plot(dt, dra, 'g.')\n",
    "plt.xlabel('Time (sec)')\n",
    "plt.ylabel('Offset (arcsec)')"
=======
   "outputs": [
    {
     "name": "stdout",
     "output_type": "stream",
     "text": [
      "0.03831759610361909\n",
      "0.038997426968601874\n",
      "0.037721266867862674\n",
      "0.041707546368796124\n",
      "0.04233815984114701\n",
      "0.04343649369448319\n",
      "0.042371988403955216\n",
      "0.045525334310381\n",
      "0.046564790020186424\n",
      "0.04529345441300848\n",
      "0.04852918139127032\n",
      "0.04950017714010992\n",
      "0.04752691822153954\n",
      "0.051818634769811446\n",
      "0.05221719610170254\n",
      "0.05308392247751612\n",
      "0.05133577974888055\n",
      "0.054693387486374166\n",
      "0.05547392275316478\n",
      "0.05352999284797098\n",
      "0.05690896915744266\n",
      "0.05759707818188948\n",
      "0.05496315974508226\n",
      "0.05934816366785412\n",
      "0.05943733721860705\n",
      "0.05662236294687375\n",
      "0.0609941233317132\n",
      "0.06098023831791408\n",
      "0.06143330574985043\n",
      "0.058896330274008805\n",
      "0.062214146209504974\n",
      "0.06256013213191314\n",
      "0.05986929944173672\n",
      "0.06312951336223781\n",
      "0.0633659875965975\n",
      "0.06002917419599081\n",
      "0.06422371981399881\n",
      "0.06384386677618825\n",
      "0.06393056028852356\n",
      "0.060931882292035194\n",
      "0.06398937127111254\n",
      "0.06396307054916482\n",
      "0.06085748607102763\n",
      "0.06380069650107355\n",
      "0.06366082358402801\n",
      "0.059959053453663196\n",
      "0.06378233065720186\n",
      "0.06302441959741183\n",
      "0.05924849112093246\n",
      "0.06292610488595074\n",
      "0.06205635915595622\n",
      "0.061654257712914384\n",
      "0.05831028931259274\n",
      "0.06076172423781562\n",
      "0.06025018771267241\n",
      "0.05687208051313481\n",
      "0.05914672378498987\n",
      "0.05852854759003587\n",
      "0.05463085217870722\n",
      "0.05772337599511843\n",
      "0.056498461446592124\n",
      "0.05574279065506213\n",
      "0.052355009237020717\n",
      "0.05417079047632266\n",
      "0.05331696381657669\n",
      "0.04995505517859556\n",
      "0.051558076913689396\n",
      "0.050610954713242035\n",
      "0.04679136965075789\n",
      "0.0491753999585247\n",
      "0.04763898528433325\n",
      "0.04388142407778559\n",
      "0.046035540787706095\n",
      "0.04441719796428136\n",
      "0.04327222654844187\n",
      "0.0401235833283954\n",
      "0.04096287994038372\n",
      "0.0397433763973307\n",
      "0.0366951789783343\n",
      "0.03729448220965575\n",
      "0.03600684604311331\n",
      "0.032578933194225404\n",
      "0.033927957066446954\n",
      "0.03208244475710368\n",
      "0.030714383304183836\n",
      "0.027963024463526078\n",
      "0.027991096280675264\n",
      "0.026571162206996634\n",
      "0.023971155264547784\n",
      "0.023753943219716498\n",
      "0.022289610480977443\n",
      "0.01936278981629054\n",
      "0.019884892552453647\n",
      "0.017891864972317154\n",
      "0.015144229034610816\n",
      "0.015421224902909217\n",
      "0.01340071220519576\n",
      "0.011862355257179994\n",
      "0.009860633444660986\n",
      "0.00883898781177019\n",
      "0.007281996039972303\n",
      "0.00548354723710645\n",
      "0.004229933182045897\n",
      "0.0026622437731134594\n",
      "0.0005920156913551485\n",
      "8.128523413006406e-05\n",
      "-0.0019734672602802067\n",
      "-0.003543110785405285\n",
      "-0.004832047722530508\n",
      "-0.006601651180887984\n",
      "-0.008163394920503985\n",
      "-0.009222543407266434\n",
      "-0.011198784403598741\n",
      "-0.012744687294705272\n",
      "-0.0140454401231212\n",
      "-0.01526442088209933\n",
      "-0.01726348183119247\n",
      "-0.018321917205151597\n",
      "-0.019731495708479846\n",
      "-0.021696271727375156\n",
      "-0.023174054208072146\n",
      "-0.023432074234002207\n",
      "-0.026019551327845725\n",
      "-0.027454883462706525\n",
      "-0.02746714560059369\n",
      "-0.030209677778666445\n",
      "-0.03159447629703891\n",
      "-0.031824690005435814\n",
      "-0.033778289962968604\n",
      "-0.03556896688301094\n",
      "-0.0368733859419073\n",
      "-0.03630941155394339\n",
      "-0.03935371883060043\n",
      "-0.04058820780728032\n",
      "-0.039779675468338764\n",
      "-0.04292341242262637\n",
      "-0.044079192164275964\n",
      "-0.04347939988273007\n",
      "-0.04580064157975661\n",
      "-0.047319265139796396\n",
      "-0.046475052378491456\n",
      "-0.048864011403810914\n"
     ]
    },
    {
     "ename": "IndexError",
     "evalue": "list index out of range",
     "output_type": "error",
     "traceback": [
      "\u001b[0;31m---------------------------------------------------------------------------\u001b[0m",
      "\u001b[0;31mIndexError\u001b[0m                                Traceback (most recent call last)",
      "\u001b[0;32m<ipython-input-18-b3f14be16749>\u001b[0m in \u001b[0;36m<module>\u001b[0;34m()\u001b[0m\n\u001b[1;32m      4\u001b[0m \u001b[0;34m\u001b[0m\u001b[0m\n\u001b[1;32m      5\u001b[0m \u001b[0;32mfor\u001b[0m \u001b[0mind\u001b[0m\u001b[0;34m,\u001b[0m \u001b[0mlast\u001b[0m \u001b[0;32min\u001b[0m \u001b[0menumerate\u001b[0m\u001b[0;34m(\u001b[0m\u001b[0mdoff\u001b[0m\u001b[0;34m)\u001b[0m\u001b[0;34m:\u001b[0m\u001b[0;34m\u001b[0m\u001b[0m\n\u001b[0;32m----> 6\u001b[0;31m     \u001b[0mprint\u001b[0m\u001b[0;34m(\u001b[0m \u001b[0;34m(\u001b[0m\u001b[0mdoff\u001b[0m\u001b[0;34m[\u001b[0m\u001b[0mind\u001b[0m\u001b[0;34m+\u001b[0m\u001b[0;36m1\u001b[0m\u001b[0;34m]\u001b[0m \u001b[0;34m-\u001b[0m \u001b[0mlast\u001b[0m\u001b[0;34m)\u001b[0m\u001b[0;34m/\u001b[0m\u001b[0;34m(\u001b[0m\u001b[0;36m60\u001b[0m \u001b[0;34m*\u001b[0m \u001b[0;36m20.\u001b[0m\u001b[0;34m)\u001b[0m\u001b[0;34m)\u001b[0m\u001b[0;34m\u001b[0m\u001b[0m\n\u001b[0m\u001b[1;32m      7\u001b[0m     \u001b[0;32mif\u001b[0m \u001b[0mind\u001b[0m \u001b[0;34m>\u001b[0m \u001b[0;36m300\u001b[0m\u001b[0;34m:\u001b[0m\u001b[0;34m\u001b[0m\u001b[0m\n\u001b[1;32m      8\u001b[0m         \u001b[0;32mbreak\u001b[0m\u001b[0;34m\u001b[0m\u001b[0m\n",
      "\u001b[0;31mIndexError\u001b[0m: list index out of range"
     ]
    },
    {
     "data": {
      "image/png": "iVBORw0KGgoAAAANSUhEUgAAAY4AAAEKCAYAAAAFJbKyAAAABHNCSVQICAgIfAhkiAAAAAlwSFlz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\nAElFTkSuQmCC\n",
      "text/plain": [
       "<matplotlib.figure.Figure at 0x1134d41d0>"
      ]
     },
     "metadata": {},
     "output_type": "display_data"
    }
   ],
   "source": [
    "plt.plot(dt, doff, 'g.')\n",
    "plt.xlabel('Time (sec)')\n",
    "plt.ylabel('Offset (arcsec)')\n",
    "\n",
    "for ind, last in enumerate(doff):\n",
    "    print( (doff[ind+1] - last)/(60 * 20.))\n",
    "    if ind > 300:\n",
    "        break"
>>>>>>> master
   ]
  },
  {
   "cell_type": "code",
   "execution_count": null,
   "metadata": {
    "collapsed": false
   },
   "outputs": [],
   "source": [
    "from astropy.coordinates import SkyCoord\n",
    "doff = []\n",
    "dra = []\n",
    "ddec =[]\n",
    "dt = []\n",
    "\n",
    "base_ra = None\n",
    "base_dec = None\n",
    "\n",
    "tcheck = min(att['Time'])\n",
    "step_size = 1. # arcminute\n",
    "last_skycoord = None\n",
    "last_time = None\n",
    "\n",
    "set = 0\n",
    "for ind, t0 in enumerate(att['Time']):\n",
    "\n",
    "    if (t0 - min(att['Time'])) < 1500:\n",
    "        continue\n",
    "\n",
    "\n",
    "    if (t0 - min(att['Time'])) > 1800:\n",
    "        break\n",
    "\n",
    "        \n",
    "    t1 = convert_nustar_time(t0)\n",
    "    \n",
    "    ra_moon, dec_moon = get_moon_j2000(t1, line1, line2)\n",
    "    moon_skycoord = SkyCoord(ra_moon, dec_moon)\n",
    "\n",
    "    if set == 0:\n",
    "        print(t1)\n",
    "        \n",
    "        if last_time is not None:\n",
    "            print(t0 - last_time)\n",
    "        \n",
    "        last_time = t0\n",
    "        last_skycoord = moon_skycoord\n",
    "\n",
    "\n",
    "        set = 1\n",
    "    else:\n",
    "        if moon_skycoord.separation(last_skycoord).arcmin > step_size:\n",
    "            set=0\n",
    "               \n",
    "    \n",
    "    "
   ]
  },
  {
   "cell_type": "code",
   "execution_count": null,
   "metadata": {
    "collapsed": false
   },
   "outputs": [],
   "source": [
    "dra"
   ]
  },
  {
   "cell_type": "code",
<<<<<<< HEAD
=======
   "execution_count": 17,
   "metadata": {
    "collapsed": false
   },
   "outputs": [
    {
     "data": {
      "text/plain": [
       "333.3333333333333"
      ]
     },
     "execution_count": 17,
     "metadata": {},
     "output_type": "execute_result"
    }
   ],
   "source": [
    "200e3 / (10 * 60)"
   ]
  },
  {
   "cell_type": "code",
>>>>>>> master
   "execution_count": null,
   "metadata": {
    "collapsed": true
   },
   "outputs": [],
   "source": []
  }
 ],
 "metadata": {
  "anaconda-cloud": {},
  "kernelspec": {
   "display_name": "Python [default]",
   "language": "python",
   "name": "python3"
  },
  "language_info": {
   "codemirror_mode": {
    "name": "ipython",
    "version": 3
   },
   "file_extension": ".py",
   "mimetype": "text/x-python",
   "name": "python",
   "nbconvert_exporter": "python",
   "pygments_lexer": "ipython3",
<<<<<<< HEAD
   "version": "3.5.1"
=======
   "version": "3.5.2"
>>>>>>> master
  }
 },
 "nbformat": 4,
 "nbformat_minor": 2
}
