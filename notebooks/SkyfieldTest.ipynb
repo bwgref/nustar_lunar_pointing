{
 "cells": [
  {
   "cell_type": "code",
   "execution_count": null,
   "metadata": {
    "collapsed": false
   },
   "outputs": [],
   "source": [
    "from astropy.io.fits import getdata, getheader\n",
    "import astropy.units as u\n",
    "from nustar_lunar_pointing.tracking import get_epoch_tle\n",
    "from nustar_lunar_pointing.tracking import convert_nustar_time\n",
    "from nustar_lunar_pointing.tracking import get_moon_j2000\n",
    "from astropy.time import Time\n",
    "\n",
    "\n",
    "import matplotlib.pyplot as plt\n",
    "%matplotlib notebook"
   ]
  },
  {
   "cell_type": "code",
   "execution_count": null,
   "metadata": {
    "collapsed": false
   },
   "outputs": [],
   "source": [
    "from datetime import datetime\n",
    "\n",
    "checktime = datetime.strptime('2017-05-08', \"%Y-%m-%d\")\n",
    "tlefile = '../data/NuSTAR.tle'\n",
    "mindt, line1, line2 = get_epoch_tle(checktime, tlefile)\n",
    "print('Days between TLE entry and when you want to observe: ', mindt)\n"
   ]
  },
  {
   "cell_type": "code",
   "execution_count": null,
   "metadata": {
    "collapsed": false
   },
   "outputs": [],
   "source": [
    "from skyfield.api import EarthSatellite, load\n",
    "\n",
    "ts = load.timescale()\n",
    "\n",
    "planets = load('de436.bsp')\n",
    "moon = planets['Moon']\n",
    "earth = planets['Earth']\n",
    "\n",
    "\n",
    "checktime = datetime.strptime('2017-05-08', \"%Y-%m-%d\")\n",
    "tlefile = '../data/NuSTAR.tle'\n",
    "mindt, line1, line2 = get_epoch_tle(checktime, tlefile)\n",
    "print('Days between TLE entry and when you want to observe: ', mindt)\n",
    "nustar = EarthSatellite(line1, line2)\n",
    "geometry = nustar +earth\n",
    "\n"
   ]
  },
  {
   "cell_type": "code",
   "execution_count": null,
   "metadata": {
    "collapsed": false
   },
   "outputs": [],
   "source": [
    "from astropy.coordinates import SkyCoord\n",
    "from datetime import timedelta\n",
    "ra = []\n",
    "dec =[]\n",
    "times= []\n",
    "base_ra = None\n",
    "base_dec = None\n",
    "\n",
    "\n",
    "ra_sky = []\n",
    "dec_sky = []\n",
    "\n",
    "step_size = timedelta(0, 1000.) # 1000 second steps\n",
    "checktime = datetime.strptime('2017-05-08', \"%Y-%m-%d\")\n",
    "end_check = datetime.strptime('2017-05-10', \"%Y-%m-%d\")\n",
    "\n",
    "\n",
    "while ( (end_check - checktime).total_seconds() ) > 0:\n",
    "    checktime += step_size\n",
    "        \n",
    "    ra_moon, dec_moon = get_moon_j2000(checktime, line1, line2)\n",
    "    utc = Time(checktime)\n",
    "    tcheck = ts.from_astropy(utc)\n",
    "\n",
    "    times.extend([checktime])\n",
    "    ra.extend([ra_moon.value])\n",
    "    dec.extend([dec_moon.value])\n",
    " \n",
    "    nustar_bary = geometry.at(tcheck)\n",
    "    astrometric = nustar_bary.observe(moon)\n",
    "    this_ra_sky, this_dec_sky, dist = astrometric.radec()\n",
    "\n",
    "    ra_sky.extend([this_ra_sky.to(u.deg).value])\n",
    "    dec_sky.extend([this_dec_sky.to(u.deg).value])\n",
    "\n",
    "    astropy_coord = SkyCoord(ra_moon, dec_moon)\n",
    "    sky_coord = SkyCoord(this_ra_sky.to(u.deg), this_dec_sky.to(u.deg))\n",
    "    print(astropy_coord.separation(sky_coord))\n",
    "    "
   ]
  },
  {
   "cell_type": "code",
   "execution_count": null,
   "metadata": {
    "collapsed": false,
    "scrolled": true
   },
   "outputs": [],
   "source": [
    "ax = plt.figure(112, figsize=(8, 6))\n",
    "plt.plot(times, ra, 'g.')\n",
    "plt.plot(times, ra_sky, 'b.')\n",
    "plt.xlabel('Time (sec)')\n",
    "plt.ylabel('RA (deg)')\n",
    "\n",
    "ax = plt.figure(212, figsize=(8, 6))\n",
    "\n",
    "\n",
    "plt.plot(times, dec, 'b.')\n",
    "plt.xlabel('Time (sec)')\n",
    "plt.ylabel('Dec (deg)')\n",
    "\n"
   ]
  },
  {
   "cell_type": "code",
   "execution_count": null,
   "metadata": {
    "collapsed": false
   },
   "outputs": [],
   "source": []
  },
  {
   "cell_type": "code",
   "execution_count": null,
   "metadata": {
    "collapsed": false
   },
   "outputs": [],
   "source": []
  },
  {
   "cell_type": "code",
   "execution_count": null,
   "metadata": {
    "collapsed": false
   },
   "outputs": [],
   "source": []
  },
  {
   "cell_type": "code",
   "execution_count": null,
   "metadata": {
    "collapsed": false
   },
   "outputs": [],
   "source": [
    "\n"
   ]
  },
  {
   "cell_type": "code",
   "execution_count": null,
   "metadata": {
    "collapsed": false
   },
   "outputs": [],
   "source": []
  }
 ],
 "metadata": {
  "anaconda-cloud": {},
  "kernelspec": {
   "display_name": "Python [default]",
   "language": "python",
   "name": "python3"
  },
  "language_info": {
   "codemirror_mode": {
    "name": "ipython",
    "version": 3
   },
   "file_extension": ".py",
   "mimetype": "text/x-python",
   "name": "python",
   "nbconvert_exporter": "python",
   "pygments_lexer": "ipython3",
   "version": "3.5.2"
  }
 },
 "nbformat": 4,
 "nbformat_minor": 2
}
